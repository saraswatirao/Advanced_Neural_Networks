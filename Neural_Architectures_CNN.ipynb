{
  "nbformat": 4,
  "nbformat_minor": 0,
  "metadata": {
    "colab": {
      "provenance": [],
      "gpuType": "T4"
    },
    "kernelspec": {
      "name": "python3",
      "display_name": "Python 3"
    },
    "language_info": {
      "name": "python"
    },
    "accelerator": "GPU"
  },
  "cells": [
    {
      "cell_type": "markdown",
      "source": [
        "# Handwritten Letters Dataset\n",
        "###It contains the following info:\n",
        "#####**The main dataset (letters.zip)**\n",
        "1650 (50x33) color images (32x32x3) with 33 letters and the file with labels letters.txt.\n",
        "Photo files are in the .png format and the labels are integers and values.\n",
        "Additional letters.csv file.\n",
        "The file LetterColorImages.h5 consists of preprocessing images of this set: image tensors and targets (labels).\n",
        "#####**The additional dataset (letters2.zip)**\n",
        "5940 (180x33) color images (32x32x3) with 33 letters and the file with labels letters2.txt.\n",
        "Photo files are in the .png format and the labels are integers and values.\n",
        "Additional letters2.csv file.\n",
        "The file LetterColorImages2.h5 consists of preprocessing images of this set: image tensors and targets (labels).\n",
        "#####**The additional dataset (letters3.zip)**\n",
        "6600 (200x33) color images (32x32x3) with 33 letters and the file with labels letters2.txt.\n",
        "Photo files are in the .png format and the labels are integers and values.\n",
        "Additional letters3.csv file.\n",
        "The file LetterColorImages3.h5 consists of preprocessing images of this set: image tensors and targets (labels).\n",
        "Letter Symbols => Letter Labels\n",
        "а=>1, б=>2, в=>3, г=>4, д=>5, е=>6, ё=>7, ж=>8, з=>9, и=>10,\n",
        "й=>11, к=>12, л=>13, м=>14, н=>15, о=>16, п=>17, р=>18, с=>19, т=>20,\n",
        "у=>21, ф=>22, х=>23, ц=>24, ч=>25, ш=>26, щ=>27, ъ=>28, ы=>29, ь=>30,\n",
        "э=>31, ю=>32, я=>33\n",
        "\n",
        "Image Backgrounds => Background Labels\n",
        "striped=>0, gridded=>1, no background=>2, graph paper=>3\n",
        "\n",
        "#####**The new version (zip_letters.zip)**\n",
        "Letter Symbols => Letter Labels\n",
        "а=>00, б=>01, в=>02, г=>03, д=>04, е=>05, ё=>06, ж=>07, з=>08, и=>09,\n",
        "й=>10, к=>11, л=>12, м=>13, н=>14, о=>15, п=>16, р=>17, с=>18, т=>19,\n",
        "у=>20, ф=>21, х=>22, ц=>23, ч=>24, ш=>25, щ=>26, ъ=>27, ы=>28, ь=>29,\n",
        "э=>30, ю=>31, я=>32\n",
        "\n",
        "'lowercase'=>00, 'uppercase'=>01\n",
        "\n",
        "Image Backgrounds => Background Labels\n",
        "'single-colored paper'=>00, 'striped paper'=>01, 'squared paper'=>02, 'graph paper'=>03\n",
        "\n"
      ],
      "metadata": {
        "id": "aUPBlfDXfDne"
      }
    },
    {
      "cell_type": "code",
      "source": [
        "# Remove warning messages\n",
        "import warnings\n",
        "warnings.filterwarnings('ignore')\n",
        "\n",
        "import pandas as pd\n",
        "import numpy as np\n",
        "import random\n",
        "import zipfile\n",
        "\n",
        "# navigation and read files\n",
        "import glob\n",
        "import os\n",
        "\n",
        "# Read HDF5 binary data format: convenient for large data storage\n",
        "import h5py\n",
        "\n",
        "# Read and display images\n",
        "import matplotlib.pyplot as plt\n",
        "import imageio\n",
        "import cv2\n",
        "from tensorflow.keras.preprocessing.image import load_img\n",
        "from tensorflow.keras.preprocessing.image import img_to_array\n",
        "#from tensorflow import keras\n",
        "\n",
        "# DL dependancies\n",
        "from sklearn.model_selection import train_test_split\n",
        "from sklearn.utils import shuffle\n",
        "from tensorflow.keras.models import Sequential\n",
        "from tensorflow.keras.layers import Dense, Flatten, Conv2D, MaxPooling2D, Dropout, LeakyReLU,GlobalMaxPooling2D\n",
        "from tensorflow.keras.metrics import top_k_categorical_accuracy,categorical_accuracy\n",
        "from tensorflow.keras.callbacks import ModelCheckpoint,ReduceLROnPlateau,EarlyStopping"
      ],
      "metadata": {
        "id": "SwiX1B0FfZHT"
      },
      "execution_count": null,
      "outputs": []
    },
    {
      "cell_type": "code",
      "source": [
        "# Mount Google drive for datasets access\n",
        "from google.colab import drive\n",
        "drive.mount('/content/drive')"
      ],
      "metadata": {
        "colab": {
          "base_uri": "https://localhost:8080/"
        },
        "id": "Kg0dfvG296_G",
        "outputId": "770812c8-43f0-4720-e1ee-3d267701eb44"
      },
      "execution_count": null,
      "outputs": [
        {
          "output_type": "stream",
          "name": "stdout",
          "text": [
            "Mounted at /content/drive\n"
          ]
        }
      ]
    },
    {
      "cell_type": "code",
      "source": [
        "# def unzip_folder(zip_path, extract_path):\n",
        "#     with zipfile.ZipFile(zip_path, 'r') as zip_ref:\n",
        "#         zip_ref.extractall(extract_path)\n",
        "\n",
        "# zip_file_path = '/content/drive/MyDrive/NeuralNetwork_IK/Handwritten_Letter_Dataset.zip'\n",
        "# extract_directory = '/content/drive/MyDrive/NeuralNetwork_IK/Handwritten_Letter_Dataset'\n",
        "\n",
        "# unzip_folder(zip_file_path, extract_directory)"
      ],
      "metadata": {
        "id": "OD_DHYd1ieR1"
      },
      "execution_count": null,
      "outputs": []
    },
    {
      "cell_type": "code",
      "source": [
        "# Path of images\n",
        "prefix_path = '/content/drive/MyDrive/NeuralNetwork_IK/Handwritten_Letter_Dataset/'\n",
        "PATH_TO_DATA = prefix_path + 'Handwritten_Letter_Dataset/'\n",
        "CSV_FILES =  ['letters.csv', 'letters2.csv', 'letters3.csv']"
      ],
      "metadata": {
        "id": "uWv2nCiPfz8l"
      },
      "execution_count": null,
      "outputs": []
    },
    {
      "cell_type": "code",
      "source": [
        "def import_data(CSV_FILE):\n",
        "    data = pd.read_csv(PATH_TO_DATA + CSV_FILE)\n",
        "    # Create path extention for corresponding folders that contains images\n",
        "    data['source'] = CSV_FILE[:-4]+'/'\n",
        "    return data"
      ],
      "metadata": {
        "id": "W9UeT6yoi3uL"
      },
      "execution_count": null,
      "outputs": []
    },
    {
      "cell_type": "code",
      "source": [
        "data1 = import_data(CSV_FILES[0])\n",
        "data2 = import_data(CSV_FILES[1])\n",
        "data3 = import_data(CSV_FILES[2])\n",
        "data = pd.concat([data1, data2, data3], ignore_index=True)\n",
        "\n",
        "# I won't use these data anymore\n",
        "del(data1, data2, data3)"
      ],
      "metadata": {
        "id": "QsLeZFZFjrJR"
      },
      "execution_count": null,
      "outputs": []
    },
    {
      "cell_type": "code",
      "source": [
        "# Shuffle data\n",
        "data = shuffle(data, random_state = 42)"
      ],
      "metadata": {
        "id": "QEZbA6vcj65r"
      },
      "execution_count": null,
      "outputs": []
    },
    {
      "cell_type": "code",
      "source": [
        "data.head()"
      ],
      "metadata": {
        "colab": {
          "base_uri": "https://localhost:8080/",
          "height": 206
        },
        "id": "W1gqlUu_k7dR",
        "outputId": "180515fe-8649-4c76-b6db-34ce2a23607f"
      },
      "execution_count": null,
      "outputs": [
        {
          "output_type": "execute_result",
          "data": {
            "text/plain": [
              "      letter  label        file  background     source\n",
              "6491       щ     27  27_212.png           2  letters2/\n",
              "2012       в      3   03_53.png           2  letters2/\n",
              "13295      ы     29  29_336.png           3  letters3/\n",
              "11270      с     19  19_311.png           3  letters3/\n",
              "12837      щ     27  27_278.png           3  letters3/"
            ],
            "text/html": [
              "\n",
              "  <div id=\"df-94570e4f-bc2f-4aa7-881c-1587ecd4a8bc\" class=\"colab-df-container\">\n",
              "    <div>\n",
              "<style scoped>\n",
              "    .dataframe tbody tr th:only-of-type {\n",
              "        vertical-align: middle;\n",
              "    }\n",
              "\n",
              "    .dataframe tbody tr th {\n",
              "        vertical-align: top;\n",
              "    }\n",
              "\n",
              "    .dataframe thead th {\n",
              "        text-align: right;\n",
              "    }\n",
              "</style>\n",
              "<table border=\"1\" class=\"dataframe\">\n",
              "  <thead>\n",
              "    <tr style=\"text-align: right;\">\n",
              "      <th></th>\n",
              "      <th>letter</th>\n",
              "      <th>label</th>\n",
              "      <th>file</th>\n",
              "      <th>background</th>\n",
              "      <th>source</th>\n",
              "    </tr>\n",
              "  </thead>\n",
              "  <tbody>\n",
              "    <tr>\n",
              "      <th>6491</th>\n",
              "      <td>щ</td>\n",
              "      <td>27</td>\n",
              "      <td>27_212.png</td>\n",
              "      <td>2</td>\n",
              "      <td>letters2/</td>\n",
              "    </tr>\n",
              "    <tr>\n",
              "      <th>2012</th>\n",
              "      <td>в</td>\n",
              "      <td>3</td>\n",
              "      <td>03_53.png</td>\n",
              "      <td>2</td>\n",
              "      <td>letters2/</td>\n",
              "    </tr>\n",
              "    <tr>\n",
              "      <th>13295</th>\n",
              "      <td>ы</td>\n",
              "      <td>29</td>\n",
              "      <td>29_336.png</td>\n",
              "      <td>3</td>\n",
              "      <td>letters3/</td>\n",
              "    </tr>\n",
              "    <tr>\n",
              "      <th>11270</th>\n",
              "      <td>с</td>\n",
              "      <td>19</td>\n",
              "      <td>19_311.png</td>\n",
              "      <td>3</td>\n",
              "      <td>letters3/</td>\n",
              "    </tr>\n",
              "    <tr>\n",
              "      <th>12837</th>\n",
              "      <td>щ</td>\n",
              "      <td>27</td>\n",
              "      <td>27_278.png</td>\n",
              "      <td>3</td>\n",
              "      <td>letters3/</td>\n",
              "    </tr>\n",
              "  </tbody>\n",
              "</table>\n",
              "</div>\n",
              "    <div class=\"colab-df-buttons\">\n",
              "\n",
              "  <div class=\"colab-df-container\">\n",
              "    <button class=\"colab-df-convert\" onclick=\"convertToInteractive('df-94570e4f-bc2f-4aa7-881c-1587ecd4a8bc')\"\n",
              "            title=\"Convert this dataframe to an interactive table.\"\n",
              "            style=\"display:none;\">\n",
              "\n",
              "  <svg xmlns=\"http://www.w3.org/2000/svg\" height=\"24px\" viewBox=\"0 -960 960 960\">\n",
              "    <path d=\"M120-120v-720h720v720H120Zm60-500h600v-160H180v160Zm220 220h160v-160H400v160Zm0 220h160v-160H400v160ZM180-400h160v-160H180v160Zm440 0h160v-160H620v160ZM180-180h160v-160H180v160Zm440 0h160v-160H620v160Z\"/>\n",
              "  </svg>\n",
              "    </button>\n",
              "\n",
              "  <style>\n",
              "    .colab-df-container {\n",
              "      display:flex;\n",
              "      gap: 12px;\n",
              "    }\n",
              "\n",
              "    .colab-df-convert {\n",
              "      background-color: #E8F0FE;\n",
              "      border: none;\n",
              "      border-radius: 50%;\n",
              "      cursor: pointer;\n",
              "      display: none;\n",
              "      fill: #1967D2;\n",
              "      height: 32px;\n",
              "      padding: 0 0 0 0;\n",
              "      width: 32px;\n",
              "    }\n",
              "\n",
              "    .colab-df-convert:hover {\n",
              "      background-color: #E2EBFA;\n",
              "      box-shadow: 0px 1px 2px rgba(60, 64, 67, 0.3), 0px 1px 3px 1px rgba(60, 64, 67, 0.15);\n",
              "      fill: #174EA6;\n",
              "    }\n",
              "\n",
              "    .colab-df-buttons div {\n",
              "      margin-bottom: 4px;\n",
              "    }\n",
              "\n",
              "    [theme=dark] .colab-df-convert {\n",
              "      background-color: #3B4455;\n",
              "      fill: #D2E3FC;\n",
              "    }\n",
              "\n",
              "    [theme=dark] .colab-df-convert:hover {\n",
              "      background-color: #434B5C;\n",
              "      box-shadow: 0px 1px 3px 1px rgba(0, 0, 0, 0.15);\n",
              "      filter: drop-shadow(0px 1px 2px rgba(0, 0, 0, 0.3));\n",
              "      fill: #FFFFFF;\n",
              "    }\n",
              "  </style>\n",
              "\n",
              "    <script>\n",
              "      const buttonEl =\n",
              "        document.querySelector('#df-94570e4f-bc2f-4aa7-881c-1587ecd4a8bc button.colab-df-convert');\n",
              "      buttonEl.style.display =\n",
              "        google.colab.kernel.accessAllowed ? 'block' : 'none';\n",
              "\n",
              "      async function convertToInteractive(key) {\n",
              "        const element = document.querySelector('#df-94570e4f-bc2f-4aa7-881c-1587ecd4a8bc');\n",
              "        const dataTable =\n",
              "          await google.colab.kernel.invokeFunction('convertToInteractive',\n",
              "                                                    [key], {});\n",
              "        if (!dataTable) return;\n",
              "\n",
              "        const docLinkHtml = 'Like what you see? Visit the ' +\n",
              "          '<a target=\"_blank\" href=https://colab.research.google.com/notebooks/data_table.ipynb>data table notebook</a>'\n",
              "          + ' to learn more about interactive tables.';\n",
              "        element.innerHTML = '';\n",
              "        dataTable['output_type'] = 'display_data';\n",
              "        await google.colab.output.renderOutput(dataTable, element);\n",
              "        const docLink = document.createElement('div');\n",
              "        docLink.innerHTML = docLinkHtml;\n",
              "        element.appendChild(docLink);\n",
              "      }\n",
              "    </script>\n",
              "  </div>\n",
              "\n",
              "\n",
              "<div id=\"df-1761cdb0-0030-444d-a8fe-99af3190aac9\">\n",
              "  <button class=\"colab-df-quickchart\" onclick=\"quickchart('df-1761cdb0-0030-444d-a8fe-99af3190aac9')\"\n",
              "            title=\"Suggest charts\"\n",
              "            style=\"display:none;\">\n",
              "\n",
              "<svg xmlns=\"http://www.w3.org/2000/svg\" height=\"24px\"viewBox=\"0 0 24 24\"\n",
              "     width=\"24px\">\n",
              "    <g>\n",
              "        <path d=\"M19 3H5c-1.1 0-2 .9-2 2v14c0 1.1.9 2 2 2h14c1.1 0 2-.9 2-2V5c0-1.1-.9-2-2-2zM9 17H7v-7h2v7zm4 0h-2V7h2v10zm4 0h-2v-4h2v4z\"/>\n",
              "    </g>\n",
              "</svg>\n",
              "  </button>\n",
              "\n",
              "<style>\n",
              "  .colab-df-quickchart {\n",
              "      --bg-color: #E8F0FE;\n",
              "      --fill-color: #1967D2;\n",
              "      --hover-bg-color: #E2EBFA;\n",
              "      --hover-fill-color: #174EA6;\n",
              "      --disabled-fill-color: #AAA;\n",
              "      --disabled-bg-color: #DDD;\n",
              "  }\n",
              "\n",
              "  [theme=dark] .colab-df-quickchart {\n",
              "      --bg-color: #3B4455;\n",
              "      --fill-color: #D2E3FC;\n",
              "      --hover-bg-color: #434B5C;\n",
              "      --hover-fill-color: #FFFFFF;\n",
              "      --disabled-bg-color: #3B4455;\n",
              "      --disabled-fill-color: #666;\n",
              "  }\n",
              "\n",
              "  .colab-df-quickchart {\n",
              "    background-color: var(--bg-color);\n",
              "    border: none;\n",
              "    border-radius: 50%;\n",
              "    cursor: pointer;\n",
              "    display: none;\n",
              "    fill: var(--fill-color);\n",
              "    height: 32px;\n",
              "    padding: 0;\n",
              "    width: 32px;\n",
              "  }\n",
              "\n",
              "  .colab-df-quickchart:hover {\n",
              "    background-color: var(--hover-bg-color);\n",
              "    box-shadow: 0 1px 2px rgba(60, 64, 67, 0.3), 0 1px 3px 1px rgba(60, 64, 67, 0.15);\n",
              "    fill: var(--button-hover-fill-color);\n",
              "  }\n",
              "\n",
              "  .colab-df-quickchart-complete:disabled,\n",
              "  .colab-df-quickchart-complete:disabled:hover {\n",
              "    background-color: var(--disabled-bg-color);\n",
              "    fill: var(--disabled-fill-color);\n",
              "    box-shadow: none;\n",
              "  }\n",
              "\n",
              "  .colab-df-spinner {\n",
              "    border: 2px solid var(--fill-color);\n",
              "    border-color: transparent;\n",
              "    border-bottom-color: var(--fill-color);\n",
              "    animation:\n",
              "      spin 1s steps(1) infinite;\n",
              "  }\n",
              "\n",
              "  @keyframes spin {\n",
              "    0% {\n",
              "      border-color: transparent;\n",
              "      border-bottom-color: var(--fill-color);\n",
              "      border-left-color: var(--fill-color);\n",
              "    }\n",
              "    20% {\n",
              "      border-color: transparent;\n",
              "      border-left-color: var(--fill-color);\n",
              "      border-top-color: var(--fill-color);\n",
              "    }\n",
              "    30% {\n",
              "      border-color: transparent;\n",
              "      border-left-color: var(--fill-color);\n",
              "      border-top-color: var(--fill-color);\n",
              "      border-right-color: var(--fill-color);\n",
              "    }\n",
              "    40% {\n",
              "      border-color: transparent;\n",
              "      border-right-color: var(--fill-color);\n",
              "      border-top-color: var(--fill-color);\n",
              "    }\n",
              "    60% {\n",
              "      border-color: transparent;\n",
              "      border-right-color: var(--fill-color);\n",
              "    }\n",
              "    80% {\n",
              "      border-color: transparent;\n",
              "      border-right-color: var(--fill-color);\n",
              "      border-bottom-color: var(--fill-color);\n",
              "    }\n",
              "    90% {\n",
              "      border-color: transparent;\n",
              "      border-bottom-color: var(--fill-color);\n",
              "    }\n",
              "  }\n",
              "</style>\n",
              "\n",
              "  <script>\n",
              "    async function quickchart(key) {\n",
              "      const quickchartButtonEl =\n",
              "        document.querySelector('#' + key + ' button');\n",
              "      quickchartButtonEl.disabled = true;  // To prevent multiple clicks.\n",
              "      quickchartButtonEl.classList.add('colab-df-spinner');\n",
              "      try {\n",
              "        const charts = await google.colab.kernel.invokeFunction(\n",
              "            'suggestCharts', [key], {});\n",
              "      } catch (error) {\n",
              "        console.error('Error during call to suggestCharts:', error);\n",
              "      }\n",
              "      quickchartButtonEl.classList.remove('colab-df-spinner');\n",
              "      quickchartButtonEl.classList.add('colab-df-quickchart-complete');\n",
              "    }\n",
              "    (() => {\n",
              "      let quickchartButtonEl =\n",
              "        document.querySelector('#df-1761cdb0-0030-444d-a8fe-99af3190aac9 button');\n",
              "      quickchartButtonEl.style.display =\n",
              "        google.colab.kernel.accessAllowed ? 'block' : 'none';\n",
              "    })();\n",
              "  </script>\n",
              "</div>\n",
              "\n",
              "    </div>\n",
              "  </div>\n"
            ],
            "application/vnd.google.colaboratory.intrinsic+json": {
              "type": "dataframe",
              "variable_name": "data",
              "summary": "{\n  \"name\": \"data\",\n  \"rows\": 14190,\n  \"fields\": [\n    {\n      \"column\": \"letter\",\n      \"properties\": {\n        \"dtype\": \"category\",\n        \"num_unique_values\": 33,\n        \"samples\": [\n          \"\\u0434\",\n          \"\\u044a\",\n          \"\\u044c\"\n        ],\n        \"semantic_type\": \"\",\n        \"description\": \"\"\n      }\n    },\n    {\n      \"column\": \"label\",\n      \"properties\": {\n        \"dtype\": \"number\",\n        \"std\": 9,\n        \"min\": 1,\n        \"max\": 33,\n        \"num_unique_values\": 33,\n        \"samples\": [\n          5,\n          28,\n          30\n        ],\n        \"semantic_type\": \"\",\n        \"description\": \"\"\n      }\n    },\n    {\n      \"column\": \"file\",\n      \"properties\": {\n        \"dtype\": \"string\",\n        \"num_unique_values\": 14190,\n        \"samples\": [\n          \"23_89.png\",\n          \"03_264.png\",\n          \"07_430.png\"\n        ],\n        \"semantic_type\": \"\",\n        \"description\": \"\"\n      }\n    },\n    {\n      \"column\": \"background\",\n      \"properties\": {\n        \"dtype\": \"number\",\n        \"std\": 0,\n        \"min\": 0,\n        \"max\": 3,\n        \"num_unique_values\": 4,\n        \"samples\": [\n          3,\n          1,\n          2\n        ],\n        \"semantic_type\": \"\",\n        \"description\": \"\"\n      }\n    },\n    {\n      \"column\": \"source\",\n      \"properties\": {\n        \"dtype\": \"category\",\n        \"num_unique_values\": 3,\n        \"samples\": [\n          \"letters2/\",\n          \"letters3/\",\n          \"letters/\"\n        ],\n        \"semantic_type\": \"\",\n        \"description\": \"\"\n      }\n    }\n  ]\n}"
            }
          },
          "metadata": {},
          "execution_count": 7
        }
      ]
    },
    {
      "cell_type": "markdown",
      "source": [
        "For each row, we get the letter, its index in letters vector, the handwritten letter as .png file, the background of the paper the letter was written and the source. The goal of the preprocessing step is to encode the background and the letter column.\n"
      ],
      "metadata": {
        "id": "ruc74ZTGsbmL"
      }
    },
    {
      "cell_type": "code",
      "source": [
        "# Get all labels in one string\n",
        "letters = ''\n",
        "for letter in data.letter.unique():\n",
        "    letters += letter\n",
        "\n",
        "# Which letter is written on each image\n",
        "labels = data.label\n",
        "\n",
        "letters"
      ],
      "metadata": {
        "id": "cHxYQtrzsgIf",
        "colab": {
          "base_uri": "https://localhost:8080/",
          "height": 36
        },
        "outputId": "90fa43ac-3717-494a-bacf-b412cc93e6e5"
      },
      "execution_count": null,
      "outputs": [
        {
          "output_type": "execute_result",
          "data": {
            "text/plain": [
              "'щвысляциюгчажеръхуэмпйфбзшьтокёдн'"
            ],
            "application/vnd.google.colaboratory.intrinsic+json": {
              "type": "string"
            }
          },
          "metadata": {},
          "execution_count": 8
        }
      ]
    },
    {
      "cell_type": "markdown",
      "source": [
        "Meaning of background categories\n",
        "\n",
        "striped = 0\n",
        "gridded = 1\n",
        "no background = 2\n",
        "graph paper = 3"
      ],
      "metadata": {
        "id": "MYhqWbXZsjEY"
      }
    },
    {
      "cell_type": "code",
      "source": [
        "def ohe_letters(label):\n",
        "  '''\n",
        "  One hot encoding for the target label\n",
        "  '''\n",
        "  resu = np.zeros(len(letters))\n",
        "  index = letters.index(label)\n",
        "  resu[index] = 1\n",
        "  return resu\n",
        "\n",
        "def ohe_backgrounds(label):\n",
        "  '''\n",
        "  One hot encoding for background column\n",
        "  '''\n",
        "  resu = np.zeros(len(data.background.unique()))\n",
        "  resu[label] = 1\n",
        "  return resu"
      ],
      "metadata": {
        "id": "oE9g4utsskTr"
      },
      "execution_count": null,
      "outputs": []
    },
    {
      "cell_type": "code",
      "source": [
        "data['encoded_letter'] = data['letter'].apply(lambda x:ohe_letters(x))\n",
        "data['encoded_background'] = data['background'].apply(lambda x:ohe_backgrounds(x))"
      ],
      "metadata": {
        "id": "UDRyQ3K1sp8O"
      },
      "execution_count": null,
      "outputs": []
    },
    {
      "cell_type": "code",
      "source": [
        "data.head()"
      ],
      "metadata": {
        "colab": {
          "base_uri": "https://localhost:8080/",
          "height": 206
        },
        "id": "X-lFIATIssCo",
        "outputId": "864716f8-558d-4fa4-dac1-e8af2d40076a"
      },
      "execution_count": null,
      "outputs": [
        {
          "output_type": "execute_result",
          "data": {
            "text/plain": [
              "      letter  label        file  background     source  \\\n",
              "6491       щ     27  27_212.png           2  letters2/   \n",
              "2012       в      3   03_53.png           2  letters2/   \n",
              "13295      ы     29  29_336.png           3  letters3/   \n",
              "11270      с     19  19_311.png           3  letters3/   \n",
              "12837      щ     27  27_278.png           3  letters3/   \n",
              "\n",
              "                                          encoded_letter    encoded_background  \n",
              "6491   [1.0, 0.0, 0.0, 0.0, 0.0, 0.0, 0.0, 0.0, 0.0, ...  [0.0, 0.0, 1.0, 0.0]  \n",
              "2012   [0.0, 1.0, 0.0, 0.0, 0.0, 0.0, 0.0, 0.0, 0.0, ...  [0.0, 0.0, 1.0, 0.0]  \n",
              "13295  [0.0, 0.0, 1.0, 0.0, 0.0, 0.0, 0.0, 0.0, 0.0, ...  [0.0, 0.0, 0.0, 1.0]  \n",
              "11270  [0.0, 0.0, 0.0, 1.0, 0.0, 0.0, 0.0, 0.0, 0.0, ...  [0.0, 0.0, 0.0, 1.0]  \n",
              "12837  [1.0, 0.0, 0.0, 0.0, 0.0, 0.0, 0.0, 0.0, 0.0, ...  [0.0, 0.0, 0.0, 1.0]  "
            ],
            "text/html": [
              "\n",
              "  <div id=\"df-03c8e9da-39fd-4291-b8df-7a6d753876b1\" class=\"colab-df-container\">\n",
              "    <div>\n",
              "<style scoped>\n",
              "    .dataframe tbody tr th:only-of-type {\n",
              "        vertical-align: middle;\n",
              "    }\n",
              "\n",
              "    .dataframe tbody tr th {\n",
              "        vertical-align: top;\n",
              "    }\n",
              "\n",
              "    .dataframe thead th {\n",
              "        text-align: right;\n",
              "    }\n",
              "</style>\n",
              "<table border=\"1\" class=\"dataframe\">\n",
              "  <thead>\n",
              "    <tr style=\"text-align: right;\">\n",
              "      <th></th>\n",
              "      <th>letter</th>\n",
              "      <th>label</th>\n",
              "      <th>file</th>\n",
              "      <th>background</th>\n",
              "      <th>source</th>\n",
              "      <th>encoded_letter</th>\n",
              "      <th>encoded_background</th>\n",
              "    </tr>\n",
              "  </thead>\n",
              "  <tbody>\n",
              "    <tr>\n",
              "      <th>6491</th>\n",
              "      <td>щ</td>\n",
              "      <td>27</td>\n",
              "      <td>27_212.png</td>\n",
              "      <td>2</td>\n",
              "      <td>letters2/</td>\n",
              "      <td>[1.0, 0.0, 0.0, 0.0, 0.0, 0.0, 0.0, 0.0, 0.0, ...</td>\n",
              "      <td>[0.0, 0.0, 1.0, 0.0]</td>\n",
              "    </tr>\n",
              "    <tr>\n",
              "      <th>2012</th>\n",
              "      <td>в</td>\n",
              "      <td>3</td>\n",
              "      <td>03_53.png</td>\n",
              "      <td>2</td>\n",
              "      <td>letters2/</td>\n",
              "      <td>[0.0, 1.0, 0.0, 0.0, 0.0, 0.0, 0.0, 0.0, 0.0, ...</td>\n",
              "      <td>[0.0, 0.0, 1.0, 0.0]</td>\n",
              "    </tr>\n",
              "    <tr>\n",
              "      <th>13295</th>\n",
              "      <td>ы</td>\n",
              "      <td>29</td>\n",
              "      <td>29_336.png</td>\n",
              "      <td>3</td>\n",
              "      <td>letters3/</td>\n",
              "      <td>[0.0, 0.0, 1.0, 0.0, 0.0, 0.0, 0.0, 0.0, 0.0, ...</td>\n",
              "      <td>[0.0, 0.0, 0.0, 1.0]</td>\n",
              "    </tr>\n",
              "    <tr>\n",
              "      <th>11270</th>\n",
              "      <td>с</td>\n",
              "      <td>19</td>\n",
              "      <td>19_311.png</td>\n",
              "      <td>3</td>\n",
              "      <td>letters3/</td>\n",
              "      <td>[0.0, 0.0, 0.0, 1.0, 0.0, 0.0, 0.0, 0.0, 0.0, ...</td>\n",
              "      <td>[0.0, 0.0, 0.0, 1.0]</td>\n",
              "    </tr>\n",
              "    <tr>\n",
              "      <th>12837</th>\n",
              "      <td>щ</td>\n",
              "      <td>27</td>\n",
              "      <td>27_278.png</td>\n",
              "      <td>3</td>\n",
              "      <td>letters3/</td>\n",
              "      <td>[1.0, 0.0, 0.0, 0.0, 0.0, 0.0, 0.0, 0.0, 0.0, ...</td>\n",
              "      <td>[0.0, 0.0, 0.0, 1.0]</td>\n",
              "    </tr>\n",
              "  </tbody>\n",
              "</table>\n",
              "</div>\n",
              "    <div class=\"colab-df-buttons\">\n",
              "\n",
              "  <div class=\"colab-df-container\">\n",
              "    <button class=\"colab-df-convert\" onclick=\"convertToInteractive('df-03c8e9da-39fd-4291-b8df-7a6d753876b1')\"\n",
              "            title=\"Convert this dataframe to an interactive table.\"\n",
              "            style=\"display:none;\">\n",
              "\n",
              "  <svg xmlns=\"http://www.w3.org/2000/svg\" height=\"24px\" viewBox=\"0 -960 960 960\">\n",
              "    <path d=\"M120-120v-720h720v720H120Zm60-500h600v-160H180v160Zm220 220h160v-160H400v160Zm0 220h160v-160H400v160ZM180-400h160v-160H180v160Zm440 0h160v-160H620v160ZM180-180h160v-160H180v160Zm440 0h160v-160H620v160Z\"/>\n",
              "  </svg>\n",
              "    </button>\n",
              "\n",
              "  <style>\n",
              "    .colab-df-container {\n",
              "      display:flex;\n",
              "      gap: 12px;\n",
              "    }\n",
              "\n",
              "    .colab-df-convert {\n",
              "      background-color: #E8F0FE;\n",
              "      border: none;\n",
              "      border-radius: 50%;\n",
              "      cursor: pointer;\n",
              "      display: none;\n",
              "      fill: #1967D2;\n",
              "      height: 32px;\n",
              "      padding: 0 0 0 0;\n",
              "      width: 32px;\n",
              "    }\n",
              "\n",
              "    .colab-df-convert:hover {\n",
              "      background-color: #E2EBFA;\n",
              "      box-shadow: 0px 1px 2px rgba(60, 64, 67, 0.3), 0px 1px 3px 1px rgba(60, 64, 67, 0.15);\n",
              "      fill: #174EA6;\n",
              "    }\n",
              "\n",
              "    .colab-df-buttons div {\n",
              "      margin-bottom: 4px;\n",
              "    }\n",
              "\n",
              "    [theme=dark] .colab-df-convert {\n",
              "      background-color: #3B4455;\n",
              "      fill: #D2E3FC;\n",
              "    }\n",
              "\n",
              "    [theme=dark] .colab-df-convert:hover {\n",
              "      background-color: #434B5C;\n",
              "      box-shadow: 0px 1px 3px 1px rgba(0, 0, 0, 0.15);\n",
              "      filter: drop-shadow(0px 1px 2px rgba(0, 0, 0, 0.3));\n",
              "      fill: #FFFFFF;\n",
              "    }\n",
              "  </style>\n",
              "\n",
              "    <script>\n",
              "      const buttonEl =\n",
              "        document.querySelector('#df-03c8e9da-39fd-4291-b8df-7a6d753876b1 button.colab-df-convert');\n",
              "      buttonEl.style.display =\n",
              "        google.colab.kernel.accessAllowed ? 'block' : 'none';\n",
              "\n",
              "      async function convertToInteractive(key) {\n",
              "        const element = document.querySelector('#df-03c8e9da-39fd-4291-b8df-7a6d753876b1');\n",
              "        const dataTable =\n",
              "          await google.colab.kernel.invokeFunction('convertToInteractive',\n",
              "                                                    [key], {});\n",
              "        if (!dataTable) return;\n",
              "\n",
              "        const docLinkHtml = 'Like what you see? Visit the ' +\n",
              "          '<a target=\"_blank\" href=https://colab.research.google.com/notebooks/data_table.ipynb>data table notebook</a>'\n",
              "          + ' to learn more about interactive tables.';\n",
              "        element.innerHTML = '';\n",
              "        dataTable['output_type'] = 'display_data';\n",
              "        await google.colab.output.renderOutput(dataTable, element);\n",
              "        const docLink = document.createElement('div');\n",
              "        docLink.innerHTML = docLinkHtml;\n",
              "        element.appendChild(docLink);\n",
              "      }\n",
              "    </script>\n",
              "  </div>\n",
              "\n",
              "\n",
              "<div id=\"df-3e30b35c-2c32-463d-8580-3043616451c7\">\n",
              "  <button class=\"colab-df-quickchart\" onclick=\"quickchart('df-3e30b35c-2c32-463d-8580-3043616451c7')\"\n",
              "            title=\"Suggest charts\"\n",
              "            style=\"display:none;\">\n",
              "\n",
              "<svg xmlns=\"http://www.w3.org/2000/svg\" height=\"24px\"viewBox=\"0 0 24 24\"\n",
              "     width=\"24px\">\n",
              "    <g>\n",
              "        <path d=\"M19 3H5c-1.1 0-2 .9-2 2v14c0 1.1.9 2 2 2h14c1.1 0 2-.9 2-2V5c0-1.1-.9-2-2-2zM9 17H7v-7h2v7zm4 0h-2V7h2v10zm4 0h-2v-4h2v4z\"/>\n",
              "    </g>\n",
              "</svg>\n",
              "  </button>\n",
              "\n",
              "<style>\n",
              "  .colab-df-quickchart {\n",
              "      --bg-color: #E8F0FE;\n",
              "      --fill-color: #1967D2;\n",
              "      --hover-bg-color: #E2EBFA;\n",
              "      --hover-fill-color: #174EA6;\n",
              "      --disabled-fill-color: #AAA;\n",
              "      --disabled-bg-color: #DDD;\n",
              "  }\n",
              "\n",
              "  [theme=dark] .colab-df-quickchart {\n",
              "      --bg-color: #3B4455;\n",
              "      --fill-color: #D2E3FC;\n",
              "      --hover-bg-color: #434B5C;\n",
              "      --hover-fill-color: #FFFFFF;\n",
              "      --disabled-bg-color: #3B4455;\n",
              "      --disabled-fill-color: #666;\n",
              "  }\n",
              "\n",
              "  .colab-df-quickchart {\n",
              "    background-color: var(--bg-color);\n",
              "    border: none;\n",
              "    border-radius: 50%;\n",
              "    cursor: pointer;\n",
              "    display: none;\n",
              "    fill: var(--fill-color);\n",
              "    height: 32px;\n",
              "    padding: 0;\n",
              "    width: 32px;\n",
              "  }\n",
              "\n",
              "  .colab-df-quickchart:hover {\n",
              "    background-color: var(--hover-bg-color);\n",
              "    box-shadow: 0 1px 2px rgba(60, 64, 67, 0.3), 0 1px 3px 1px rgba(60, 64, 67, 0.15);\n",
              "    fill: var(--button-hover-fill-color);\n",
              "  }\n",
              "\n",
              "  .colab-df-quickchart-complete:disabled,\n",
              "  .colab-df-quickchart-complete:disabled:hover {\n",
              "    background-color: var(--disabled-bg-color);\n",
              "    fill: var(--disabled-fill-color);\n",
              "    box-shadow: none;\n",
              "  }\n",
              "\n",
              "  .colab-df-spinner {\n",
              "    border: 2px solid var(--fill-color);\n",
              "    border-color: transparent;\n",
              "    border-bottom-color: var(--fill-color);\n",
              "    animation:\n",
              "      spin 1s steps(1) infinite;\n",
              "  }\n",
              "\n",
              "  @keyframes spin {\n",
              "    0% {\n",
              "      border-color: transparent;\n",
              "      border-bottom-color: var(--fill-color);\n",
              "      border-left-color: var(--fill-color);\n",
              "    }\n",
              "    20% {\n",
              "      border-color: transparent;\n",
              "      border-left-color: var(--fill-color);\n",
              "      border-top-color: var(--fill-color);\n",
              "    }\n",
              "    30% {\n",
              "      border-color: transparent;\n",
              "      border-left-color: var(--fill-color);\n",
              "      border-top-color: var(--fill-color);\n",
              "      border-right-color: var(--fill-color);\n",
              "    }\n",
              "    40% {\n",
              "      border-color: transparent;\n",
              "      border-right-color: var(--fill-color);\n",
              "      border-top-color: var(--fill-color);\n",
              "    }\n",
              "    60% {\n",
              "      border-color: transparent;\n",
              "      border-right-color: var(--fill-color);\n",
              "    }\n",
              "    80% {\n",
              "      border-color: transparent;\n",
              "      border-right-color: var(--fill-color);\n",
              "      border-bottom-color: var(--fill-color);\n",
              "    }\n",
              "    90% {\n",
              "      border-color: transparent;\n",
              "      border-bottom-color: var(--fill-color);\n",
              "    }\n",
              "  }\n",
              "</style>\n",
              "\n",
              "  <script>\n",
              "    async function quickchart(key) {\n",
              "      const quickchartButtonEl =\n",
              "        document.querySelector('#' + key + ' button');\n",
              "      quickchartButtonEl.disabled = true;  // To prevent multiple clicks.\n",
              "      quickchartButtonEl.classList.add('colab-df-spinner');\n",
              "      try {\n",
              "        const charts = await google.colab.kernel.invokeFunction(\n",
              "            'suggestCharts', [key], {});\n",
              "      } catch (error) {\n",
              "        console.error('Error during call to suggestCharts:', error);\n",
              "      }\n",
              "      quickchartButtonEl.classList.remove('colab-df-spinner');\n",
              "      quickchartButtonEl.classList.add('colab-df-quickchart-complete');\n",
              "    }\n",
              "    (() => {\n",
              "      let quickchartButtonEl =\n",
              "        document.querySelector('#df-3e30b35c-2c32-463d-8580-3043616451c7 button');\n",
              "      quickchartButtonEl.style.display =\n",
              "        google.colab.kernel.accessAllowed ? 'block' : 'none';\n",
              "    })();\n",
              "  </script>\n",
              "</div>\n",
              "\n",
              "    </div>\n",
              "  </div>\n"
            ],
            "application/vnd.google.colaboratory.intrinsic+json": {
              "type": "dataframe",
              "variable_name": "data",
              "summary": "{\n  \"name\": \"data\",\n  \"rows\": 14190,\n  \"fields\": [\n    {\n      \"column\": \"letter\",\n      \"properties\": {\n        \"dtype\": \"category\",\n        \"num_unique_values\": 33,\n        \"samples\": [\n          \"\\u0434\",\n          \"\\u044a\",\n          \"\\u044c\"\n        ],\n        \"semantic_type\": \"\",\n        \"description\": \"\"\n      }\n    },\n    {\n      \"column\": \"label\",\n      \"properties\": {\n        \"dtype\": \"number\",\n        \"std\": 9,\n        \"min\": 1,\n        \"max\": 33,\n        \"num_unique_values\": 33,\n        \"samples\": [\n          5,\n          28,\n          30\n        ],\n        \"semantic_type\": \"\",\n        \"description\": \"\"\n      }\n    },\n    {\n      \"column\": \"file\",\n      \"properties\": {\n        \"dtype\": \"string\",\n        \"num_unique_values\": 14190,\n        \"samples\": [\n          \"23_89.png\",\n          \"03_264.png\",\n          \"07_430.png\"\n        ],\n        \"semantic_type\": \"\",\n        \"description\": \"\"\n      }\n    },\n    {\n      \"column\": \"background\",\n      \"properties\": {\n        \"dtype\": \"number\",\n        \"std\": 0,\n        \"min\": 0,\n        \"max\": 3,\n        \"num_unique_values\": 4,\n        \"samples\": [\n          3,\n          1,\n          2\n        ],\n        \"semantic_type\": \"\",\n        \"description\": \"\"\n      }\n    },\n    {\n      \"column\": \"source\",\n      \"properties\": {\n        \"dtype\": \"category\",\n        \"num_unique_values\": 3,\n        \"samples\": [\n          \"letters2/\",\n          \"letters3/\",\n          \"letters/\"\n        ],\n        \"semantic_type\": \"\",\n        \"description\": \"\"\n      }\n    },\n    {\n      \"column\": \"encoded_letter\",\n      \"properties\": {\n        \"dtype\": \"object\",\n        \"semantic_type\": \"\",\n        \"description\": \"\"\n      }\n    },\n    {\n      \"column\": \"encoded_background\",\n      \"properties\": {\n        \"dtype\": \"object\",\n        \"semantic_type\": \"\",\n        \"description\": \"\"\n      }\n    }\n  ]\n}"
            }
          },
          "metadata": {},
          "execution_count": 11
        }
      ]
    },
    {
      "cell_type": "markdown",
      "source": [
        "The data has the correct format, we can now extract the information we need to train a model."
      ],
      "metadata": {
        "id": "pRghw1lysvrw"
      }
    },
    {
      "cell_type": "code",
      "source": [
        "#@title Read from the reaw files\n",
        "# %%time\n",
        "# from tqdm import tqdm\n",
        "\n",
        "# # Store all png images into one numpy array\n",
        "# images = []\n",
        "# # Will be the target\n",
        "# encoded_labels = []\n",
        "\n",
        "# backgrounds = []\n",
        "# encoded_backgrounds = []\n",
        "\n",
        "# # I want to be sure that every image is consitent\n",
        "# for i, row in tqdm(data.iterrows()):\n",
        "#     img_name = row['file']\n",
        "#     numpy_image = cv2.imread(os.path.join(PATH_TO_DATA + row['source'], img_name))\n",
        "#     if numpy_image.shape == (32, 32, 3):\n",
        "#         images.append(numpy_image)\n",
        "#         encoded_labels.append(row['encoded_letter'])\n",
        "#         backgrounds.append(row['background'])\n",
        "#         encoded_backgrounds.append(row['encoded_background'])\n",
        "\n",
        "# # Normalize array of images\n",
        "# images = np.array(images)/255"
      ],
      "metadata": {
        "id": "PGP7nmDbswkL"
      },
      "execution_count": null,
      "outputs": []
    },
    {
      "cell_type": "code",
      "source": [
        "%%time\n",
        "#@title Read from compressed\n",
        "import h5py\n",
        "from tensorflow.keras.utils import to_categorical\n",
        "\n",
        "h5_path = prefix_path + 'Handwritten_Letter_Dataset/' + 'LetterColorImages_123.h5'\n",
        "\n",
        "# Open the HDF5 file\n",
        "with h5py.File(h5_path, 'r') as file:\n",
        "    # Access and print information about the file structure\n",
        "    print(\"Keys:\", list(file.keys()))\n",
        "\n",
        "    # # Access a specific dataset (replace 'dataset_name' with your dataset name)\n",
        "    backgrounds = file['backgrounds'][:]\n",
        "    images = file['images'][:]\n",
        "    labels = file['labels'][:]\n",
        "    print(\"backgrounds shape:\", backgrounds.shape)\n",
        "    print(\"images shape:\", images.shape)\n",
        "    print(\"labels shape:\", labels.shape)\n",
        "\n",
        "# Normalize array of images\n",
        "images = np.array(images)/255\n",
        "# ohe_letters_vec = np.vectorize(ohe_letters)\n",
        "# encoded_labels = np.array([ohe_letters(label) for label in labels])\n",
        "encoded_labels = to_categorical(labels-1, num_classes=33)\n"
      ],
      "metadata": {
        "colab": {
          "base_uri": "https://localhost:8080/"
        },
        "id": "h6BadK1OPsQl",
        "outputId": "a72da715-21ff-4b1a-b7a3-7df75096fa97"
      },
      "execution_count": null,
      "outputs": [
        {
          "output_type": "stream",
          "name": "stdout",
          "text": [
            "Keys: ['backgrounds', 'images', 'labels']\n",
            "backgrounds shape: (14190,)\n",
            "images shape: (14190, 32, 32, 3)\n",
            "labels shape: (14190,)\n",
            "CPU times: user 73.7 ms, sys: 249 ms, total: 323 ms\n",
            "Wall time: 6.2 s\n"
          ]
        }
      ]
    },
    {
      "cell_type": "code",
      "source": [
        "def display_image(images_list, list_of_labels = np.arange(9)):\n",
        "\n",
        "    # plot first few images\n",
        "    plt.figure(figsize=(12,12))\n",
        "    for index in list_of_labels:\n",
        "\n",
        "        # Get corresponding label\n",
        "        ohe_label = encoded_labels[index]\n",
        "        index_letter = list(ohe_label).index(1)\n",
        "        associated_letter = letters[index_letter]\n",
        "\n",
        "        # Get background\n",
        "        associated_background = backgrounds[index]\n",
        "\n",
        "\n",
        "        # define subplot\n",
        "        plt.subplot(330 + 1 + index)\n",
        "        plt.title('Label: %s \\n'%associated_letter+\\\n",
        "                 'Background: %s\\n'%associated_background,\n",
        "                 fontsize=18)\n",
        "        # plot raw pixel data\n",
        "        plt.imshow(images[index])\n",
        "\n",
        "    plt.subplots_adjust(bottom = 0.001)  # the bottom of the subplots of the figure\n",
        "    plt.subplots_adjust(top = 0.99)\n",
        "    # show the figure\n",
        "    plt.show()"
      ],
      "metadata": {
        "id": "rVs2O0gzs9sK"
      },
      "execution_count": null,
      "outputs": []
    },
    {
      "cell_type": "code",
      "source": [
        "display_image(images)"
      ],
      "metadata": {
        "colab": {
          "base_uri": "https://localhost:8080/",
          "height": 1000
        },
        "id": "hH2Wa0-eRSLW",
        "outputId": "708a6518-c951-45c5-fb83-5bf435c4a5b8"
      },
      "execution_count": null,
      "outputs": [
        {
          "output_type": "display_data",
          "data": {
            "text/plain": [
              "<Figure size 1200x1200 with 9 Axes>"
            ],
            "image/png": "[encoded data removed]"
          },
          "metadata": {}
        }
      ]
    },
    {
      "cell_type": "code",
      "source": [
        "# Define X_data and target\n",
        "X = np.array(images.copy())\n",
        "y = np.array(encoded_labels.copy())\n",
        "\n",
        "# Stratified train_test split on labels\n",
        "X_train, X_val, y_train, y_val = train_test_split(X, y,\n",
        "                                                  test_size=.2,\n",
        "                                                  stratify = y,\n",
        "                                                  random_state=42)"
      ],
      "metadata": {
        "id": "qSpGI2P8tFXl"
      },
      "execution_count": null,
      "outputs": []
    },
    {
      "cell_type": "markdown",
      "source": [
        "We're all set and the data are ready to feed the model. Let's create the model now."
      ],
      "metadata": {
        "id": "hLwsTM_YtH0d"
      }
    },
    {
      "cell_type": "code",
      "source": [
        "# Define image dimensions\n",
        "IMG_ROWS = 32\n",
        "IMG_COLS = 32\n",
        "# 3 stands for RGB images, 1 if greyscaled images\n",
        "INPUT_SHAPE = (IMG_ROWS, IMG_COLS, 3)\n",
        "\n",
        "# Number of classes to consider\n",
        "NUM_CLASSES = len(letters)\n",
        "# Group of training samples\n",
        "BATCH_SIZE = 64\n",
        "# Number of complete presentations of the dataset to be learned\n",
        "EPOCHS = 10"
      ],
      "metadata": {
        "id": "gOKhwQjDtIiW"
      },
      "execution_count": null,
      "outputs": []
    },
    {
      "cell_type": "code",
      "source": [
        "def top_3_categorical_accuracy(y_true, y_pred):\n",
        "    return top_k_categorical_accuracy(y_true, y_pred, k=3)"
      ],
      "metadata": {
        "id": "ytA4YTBptL8j"
      },
      "execution_count": null,
      "outputs": []
    },
    {
      "cell_type": "code",
      "source": [
        "def CNN_model(activation = 'softmax',\n",
        "              loss = 'categorical_crossentropy',\n",
        "              optimizer = 'adam',\n",
        "              metrics = ['accuracy', top_3_categorical_accuracy]):\n",
        "\n",
        "    model = Sequential()\n",
        "    model.add(Conv2D(32, kernel_size = (3, 3),\n",
        "                     activation = 'relu',\n",
        "                     input_shape = INPUT_SHAPE))\n",
        "    model.add(Conv2D(64, (3, 3), activation = 'relu'))\n",
        "    model.add(Conv2D(128, (4, 4), activation = 'relu'))\n",
        "    model.add(MaxPooling2D(pool_size = (2, 2)))\n",
        "    model.add(Dropout(0.25))\n",
        "    model.add(Flatten())\n",
        "    model.add(Dense(128, activation = 'relu'))\n",
        "    model.add(Dropout(0.25))\n",
        "    model.add(Dense(NUM_CLASSES, activation = activation))\n",
        "\n",
        "    # Compile the model\n",
        "    model.compile(loss = loss,\n",
        "                  optimizer = optimizer,\n",
        "                  metrics = metrics)\n",
        "\n",
        "    return model"
      ],
      "metadata": {
        "id": "KLgaH2LhtR6S"
      },
      "execution_count": null,
      "outputs": []
    },
    {
      "cell_type": "code",
      "source": [
        "# Init CNN model\n",
        "cnn_model = CNN_model()\n",
        "\n",
        "# Save weights only for best model\n",
        "checkpointer = ModelCheckpoint(filepath = 'weights.best.letters.hdf5',\n",
        "                               verbose = 2,\n",
        "                               save_best_only = True)\n",
        "\n",
        "# Reduce learning rate when a metric has stopped improving\n",
        "lr_reduction = ReduceLROnPlateau(monitor='val_loss',\n",
        "                                 patience=10,\n",
        "                                 verbose=2,\n",
        "                                 factor=.75)\n",
        "\n",
        "# If score doesn't improve during patience=20 epochs, stop learning\n",
        "estopping = EarlyStopping(monitor='val_loss',\n",
        "                          patience=20,\n",
        "                          verbose=2)\n",
        "\n",
        "# Training\n",
        "history = cnn_model.fit(X_train, y_train,\n",
        "                        batch_size = BATCH_SIZE,\n",
        "                        epochs = EPOCHS,\n",
        "                        verbose = 1,\n",
        "                        validation_data = (X_val, y_val),\n",
        "                        callbacks = [checkpointer, lr_reduction, estopping])"
      ],
      "metadata": {
        "id": "EHk3EZOXtVY8",
        "colab": {
          "base_uri": "https://localhost:8080/"
        },
        "outputId": "fa09f88c-7e1b-4b46-9963-8d6ce5b1cf39"
      },
      "execution_count": null,
      "outputs": [
        {
          "output_type": "stream",
          "name": "stdout",
          "text": [
            "Epoch 1/10\n",
            "178/178 [==============================] - ETA: 0s - loss: 3.4816 - accuracy: 0.0329 - top_3_categorical_accuracy: 0.1002\n",
            "Epoch 1: val_loss improved from inf to 3.36551, saving model to weights.best.letters.hdf5\n",
            "178/178 [==============================] - 12s 21ms/step - loss: 3.4816 - accuracy: 0.0329 - top_3_categorical_accuracy: 0.1002 - val_loss: 3.3655 - val_accuracy: 0.0669 - val_top_3_categorical_accuracy: 0.1741 - lr: 0.0010\n",
            "Epoch 2/10\n",
            "177/178 [============================>.] - ETA: 0s - loss: 3.0103 - accuracy: 0.1601 - top_3_categorical_accuracy: 0.3332\n",
            "Epoch 2: val_loss improved from 3.36551 to 2.36847, saving model to weights.best.letters.hdf5\n",
            "178/178 [==============================] - 3s 15ms/step - loss: 3.0098 - accuracy: 0.1602 - top_3_categorical_accuracy: 0.3332 - val_loss: 2.3685 - val_accuracy: 0.3622 - val_top_3_categorical_accuracy: 0.5786 - lr: 0.0010\n",
            "Epoch 3/10\n",
            "177/178 [============================>.] - ETA: 0s - loss: 2.3708 - accuracy: 0.3245 - top_3_categorical_accuracy: 0.5662\n",
            "Epoch 3: val_loss improved from 2.36847 to 1.94849, saving model to weights.best.letters.hdf5\n",
            "178/178 [==============================] - 3s 15ms/step - loss: 2.3705 - accuracy: 0.3245 - top_3_categorical_accuracy: 0.5662 - val_loss: 1.9485 - val_accuracy: 0.4820 - val_top_3_categorical_accuracy: 0.6949 - lr: 0.0010\n",
            "Epoch 4/10\n",
            "175/178 [============================>.] - ETA: 0s - loss: 1.9648 - accuracy: 0.4367 - top_3_categorical_accuracy: 0.6785\n",
            "Epoch 4: val_loss improved from 1.94849 to 1.62401, saving model to weights.best.letters.hdf5\n",
            "178/178 [==============================] - 3s 16ms/step - loss: 1.9632 - accuracy: 0.4369 - top_3_categorical_accuracy: 0.6788 - val_loss: 1.6240 - val_accuracy: 0.5610 - val_top_3_categorical_accuracy: 0.7773 - lr: 0.0010\n",
            "Epoch 5/10\n",
            "178/178 [==============================] - ETA: 0s - loss: 1.6694 - accuracy: 0.5231 - top_3_categorical_accuracy: 0.7479\n",
            "Epoch 5: val_loss improved from 1.62401 to 1.38692, saving model to weights.best.letters.hdf5\n",
            "178/178 [==============================] - 3s 17ms/step - loss: 1.6694 - accuracy: 0.5231 - top_3_categorical_accuracy: 0.7479 - val_loss: 1.3869 - val_accuracy: 0.6223 - val_top_3_categorical_accuracy: 0.8147 - lr: 0.0010\n",
            "Epoch 6/10\n",
            "176/178 [============================>.] - ETA: 0s - loss: 1.4461 - accuracy: 0.5763 - top_3_categorical_accuracy: 0.7921\n",
            "Epoch 6: val_loss improved from 1.38692 to 1.19943, saving model to weights.best.letters.hdf5\n",
            "178/178 [==============================] - 3s 17ms/step - loss: 1.4485 - accuracy: 0.5757 - top_3_categorical_accuracy: 0.7918 - val_loss: 1.1994 - val_accuracy: 0.6720 - val_top_3_categorical_accuracy: 0.8495 - lr: 0.0010\n",
            "Epoch 7/10\n",
            "175/178 [============================>.] - ETA: 0s - loss: 1.3134 - accuracy: 0.6096 - top_3_categorical_accuracy: 0.8234\n",
            "Epoch 7: val_loss improved from 1.19943 to 1.05738, saving model to weights.best.letters.hdf5\n",
            "178/178 [==============================] - 3s 15ms/step - loss: 1.3144 - accuracy: 0.6095 - top_3_categorical_accuracy: 0.8236 - val_loss: 1.0574 - val_accuracy: 0.7075 - val_top_3_categorical_accuracy: 0.8770 - lr: 0.0010\n",
            "Epoch 8/10\n",
            "175/178 [============================>.] - ETA: 0s - loss: 1.1795 - accuracy: 0.6509 - top_3_categorical_accuracy: 0.8467\n",
            "Epoch 8: val_loss did not improve from 1.05738\n",
            "178/178 [==============================] - 3s 14ms/step - loss: 1.1782 - accuracy: 0.6513 - top_3_categorical_accuracy: 0.8469 - val_loss: 1.0743 - val_accuracy: 0.7026 - val_top_3_categorical_accuracy: 0.8728 - lr: 0.0010\n",
            "Epoch 9/10\n",
            "174/178 [============================>.] - ETA: 0s - loss: 1.1162 - accuracy: 0.6648 - top_3_categorical_accuracy: 0.8594\n",
            "Epoch 9: val_loss improved from 1.05738 to 0.99859, saving model to weights.best.letters.hdf5\n",
            "178/178 [==============================] - 3s 15ms/step - loss: 1.1137 - accuracy: 0.6653 - top_3_categorical_accuracy: 0.8599 - val_loss: 0.9986 - val_accuracy: 0.7315 - val_top_3_categorical_accuracy: 0.8805 - lr: 0.0010\n",
            "Epoch 10/10\n",
            "176/178 [============================>.] - ETA: 0s - loss: 1.0246 - accuracy: 0.6911 - top_3_categorical_accuracy: 0.8784\n",
            "Epoch 10: val_loss improved from 0.99859 to 0.85140, saving model to weights.best.letters.hdf5\n",
            "178/178 [==============================] - 3s 16ms/step - loss: 1.0246 - accuracy: 0.6912 - top_3_categorical_accuracy: 0.8783 - val_loss: 0.8514 - val_accuracy: 0.7636 - val_top_3_categorical_accuracy: 0.9056 - lr: 0.0010\n"
          ]
        }
      ]
    },
    {
      "cell_type": "code",
      "source": [
        "# loading the model with the best validation accuracy\n",
        "cnn_model.load_weights('weights.best.letters.hdf5')\n",
        "cnn_model.evaluate(X_val, y_val)"
      ],
      "metadata": {
        "colab": {
          "base_uri": "https://localhost:8080/"
        },
        "id": "3jL_sGTWVeR4",
        "outputId": "c57b6815-0ef2-4b89-bbe2-3b33aba3c6bb"
      },
      "execution_count": null,
      "outputs": [
        {
          "output_type": "stream",
          "name": "stdout",
          "text": [
            "89/89 [==============================] - 1s 7ms/step - loss: 0.8134 - accuracy: 0.7671 - top_3_categorical_accuracy: 0.9133\n"
          ]
        },
        {
          "output_type": "execute_result",
          "data": {
            "text/plain": [
              "[0.8133719563484192, 0.7670894861221313, 0.9133192300796509]"
            ]
          },
          "metadata": {},
          "execution_count": 39
        }
      ]
    },
    {
      "cell_type": "code",
      "source": [
        "def load_image(path_filename):\n",
        "\t# load the image\n",
        "\timg = load_img(path_filename, target_size=(32, 32))\n",
        "\t# convert to array\n",
        "\timg = img_to_array(img)\n",
        "\t# reshape into a single sample with 1 channel\n",
        "\timg = img.reshape(1, 32, 32, 3)\n",
        "\t# prepare pixel data\n",
        "\timg = img.astype('float32')\n",
        "\timg = img / 255.0\n",
        "\treturn img"
      ],
      "metadata": {
        "id": "nGc9V76N7Y4l"
      },
      "execution_count": null,
      "outputs": []
    },
    {
      "cell_type": "code",
      "source": [
        "def get_true_label(path_filename, dataframe, column_to_get):\n",
        "    filename = os.path.basename(os.path.normpath(path_filename))\n",
        "    index_row = data[data['file']==filename].index[0]\n",
        "    return data.loc[index_row, column_to_get]"
      ],
      "metadata": {
        "id": "Fud-oPdV7c6i"
      },
      "execution_count": null,
      "outputs": []
    },
    {
      "cell_type": "code",
      "source": [
        "img = load_image(PATH_TO_DATA+'letters3/01_235.png')"
      ],
      "metadata": {
        "id": "J-xKmxUV7d2W"
      },
      "execution_count": null,
      "outputs": []
    },
    {
      "cell_type": "code",
      "source": [
        "# predict the class\n",
        "a_letter = cnn_model.predict(img)\n",
        "\n",
        "plt.imshow(img[0])\n",
        "print('true label:', get_true_label(PATH_TO_DATA+'letters3/01_235.png', data, 'letter'))"
      ],
      "metadata": {
        "colab": {
          "base_uri": "https://localhost:8080/",
          "height": 465
        },
        "id": "uSbREz2tV5na",
        "outputId": "ee692975-275c-403b-f3be-415015aa8d8b"
      },
      "execution_count": null,
      "outputs": [
        {
          "output_type": "stream",
          "name": "stdout",
          "text": [
            "1/1 [==============================] - 0s 312ms/step\n",
            "true label: а\n"
          ]
        },
        {
          "output_type": "display_data",
          "data": {
            "text/plain": [
              "<Figure size 640x480 with 1 Axes>"
            ],
            "image/png": "[encoded data removed]"
          },
          "metadata": {}
        }
      ]
    },
    {
      "cell_type": "code",
      "source": [
        "def load_random_images(number_of_images_to_load = 9):\n",
        "    images = []\n",
        "    true_labels = []\n",
        "    true_backgrounds = []\n",
        "\n",
        "    which_folder = [random.randint(1,3) for _ in range(number_of_images_to_load)]\n",
        "    for index_folder in which_folder:\n",
        "        if index_folder == 1:\n",
        "            path = PATH_TO_DATA+'letters/'\n",
        "        else:\n",
        "            path = PATH_TO_DATA+'letters'+str(index_folder)+'/'\n",
        "        nb_files = len(os.listdir(path))\n",
        "\n",
        "        index_image = random.randint(0, len(os.listdir(path)))\n",
        "\n",
        "        image = load_image(path + os.listdir(path)[index_image])\n",
        "        label = get_true_label(path + os.listdir(path)[index_image], data, 'letter')\n",
        "        background = get_true_label(path + os.listdir(path)[index_image], data, 'background')\n",
        "\n",
        "        images.append(image)\n",
        "        true_labels.append(label)\n",
        "        true_backgrounds.append(background)\n",
        "\n",
        "    return images, true_labels, true_backgrounds"
      ],
      "metadata": {
        "id": "Hp9qfWjW7hLf"
      },
      "execution_count": null,
      "outputs": []
    },
    {
      "cell_type": "code",
      "source": [
        "def classes_predictions(images_list_to_classify, true_labels, model):\n",
        "\n",
        "    # plot first few images\n",
        "    plt.figure(figsize=(12,12))\n",
        "    for index, image in enumerate(images_list_to_classify):\n",
        "\n",
        "        #a_letter = model.predict(image)\n",
        "        #letter_arr = np.array([a_letter])\n",
        "        #associated_letter = letters[int(letter_arr[0])]\n",
        "\n",
        "        # define subplot\n",
        "        plt.subplot(330 + 1 + index)\n",
        "        plt.title('True Label: %s\\n'%true_labels[index],\n",
        "                 fontsize=18)\n",
        "        # plot raw pixel data\n",
        "        plt.imshow(image[0])\n",
        "\n",
        "    plt.subplots_adjust(bottom = 0.001)  # the bottom of the subplots of the figure\n",
        "    plt.subplots_adjust(top = 0.99)\n",
        "\n",
        "    # show the figure\n",
        "    plt.show()"
      ],
      "metadata": {
        "id": "8M4qUWSe9UCc"
      },
      "execution_count": null,
      "outputs": []
    },
    {
      "cell_type": "code",
      "source": [
        "test_images, true_labels, true_backgrounds = load_random_images()"
      ],
      "metadata": {
        "id": "_QQzSLCG9YSC"
      },
      "execution_count": null,
      "outputs": []
    },
    {
      "cell_type": "code",
      "source": [
        "classes_predictions(test_images, true_labels, cnn_model)"
      ],
      "metadata": {
        "colab": {
          "base_uri": "https://localhost:8080/",
          "height": 1000
        },
        "id": "l9F2ovw39aIV",
        "outputId": "cd2000d6-a246-47fd-b6c5-04e8a9298593"
      },
      "execution_count": null,
      "outputs": [
        {
          "output_type": "display_data",
          "data": {
            "text/plain": [
              "<Figure size 1200x1200 with 9 Axes>"
            ],
            "image/png": "[encoded data removed]"
          },
          "metadata": {}
        }
      ]
    },
    {
      "cell_type": "code",
      "source": [],
      "metadata": {
        "id": "Hxpp_-w0WGND"
      },
      "execution_count": null,
      "outputs": []
    }
  ]
}